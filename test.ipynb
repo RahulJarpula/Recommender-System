{
 "cells": [
  {
   "cell_type": "code",
   "execution_count": 1,
   "metadata": {},
   "outputs": [],
   "source": [
    "import pandas as pd\n",
    "\n",
    "# --- Fix user BERT embeddings ---\n",
    "user_df = pd.read_csv(\"data/user_bert_emb.csv\", index_col=0)\n",
    "user_df.columns = [f\"UFeature{i}\" for i in range(user_df.shape[1])]\n",
    "user_df.to_csv(\"data/user_bert_emb.csv\")\n",
    "\n",
    "# --- Fix item BERT embeddings ---\n",
    "item_df = pd.read_csv(\"data/course_bert_emb.csv\", index_col=0)\n",
    "item_df.columns = [f\"CFeature{i}\" for i in range(item_df.shape[1])]\n",
    "item_df.to_csv(\"data/course_bert_emb.csv\")\n"
   ]
  }
 ],
 "metadata": {
  "kernelspec": {
   "display_name": ".conda",
   "language": "python",
   "name": "python3"
  },
  "language_info": {
   "codemirror_mode": {
    "name": "ipython",
    "version": 3
   },
   "file_extension": ".py",
   "mimetype": "text/x-python",
   "name": "python",
   "nbconvert_exporter": "python",
   "pygments_lexer": "ipython3",
   "version": "3.12.7"
  }
 },
 "nbformat": 4,
 "nbformat_minor": 2
}
